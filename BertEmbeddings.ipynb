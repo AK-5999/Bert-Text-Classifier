{
 "cells": [
  {
   "cell_type": "markdown",
   "id": "444189e3-0754-4676-aa63-36099647bae1",
   "metadata": {},
   "source": [
    "### Installing all libraries"
   ]
  },
  {
   "cell_type": "code",
   "execution_count": 1,
   "id": "3d58b6b9-f8c8-484c-a32a-cee84e3f7d15",
   "metadata": {},
   "outputs": [],
   "source": [
    "import torch\n",
    "from transformers import BertTokenizer, BertForSequenceClassification, Trainer, TrainingArguments\n",
    "from sklearn.metrics import accuracy_score, precision_recall_fscore_support\n",
    "import pandas as pd\n",
    "import matplotlib.pyplot as plt"
   ]
  },
  {
   "cell_type": "code",
   "execution_count": 2,
   "id": "fc7a594d-1ed4-4c38-903b-5fc160fcb20b",
   "metadata": {},
   "outputs": [],
   "source": [
    "import os\n",
    "os.environ['CUDA_LAUNCH_BLOCKING'] = '1'\n"
   ]
  },
  {
   "cell_type": "markdown",
   "id": "76393fa4-3255-4568-99f2-e08d534cb903",
   "metadata": {},
   "source": [
    "### Reading the Dataframes"
   ]
  },
  {
   "cell_type": "code",
   "execution_count": 3,
   "id": "446b1a87-749e-431f-8c80-2c20a241cfab",
   "metadata": {},
   "outputs": [],
   "source": [
    "df = pd.read_csv(\"./ClusteringDataSet/AGDummyTrain.csv\")"
   ]
  },
  {
   "cell_type": "code",
   "execution_count": 4,
   "id": "fb4c149b-3ada-42d7-9294-e3412650104b",
   "metadata": {},
   "outputs": [
    {
     "data": {
      "text/html": [
       "<div>\n",
       "<style scoped>\n",
       "    .dataframe tbody tr th:only-of-type {\n",
       "        vertical-align: middle;\n",
       "    }\n",
       "\n",
       "    .dataframe tbody tr th {\n",
       "        vertical-align: top;\n",
       "    }\n",
       "\n",
       "    .dataframe thead th {\n",
       "        text-align: right;\n",
       "    }\n",
       "</style>\n",
       "<table border=\"1\" class=\"dataframe\">\n",
       "  <thead>\n",
       "    <tr style=\"text-align: right;\">\n",
       "      <th></th>\n",
       "      <th>Unnamed: 0</th>\n",
       "      <th>text</th>\n",
       "      <th>label</th>\n",
       "    </tr>\n",
       "  </thead>\n",
       "  <tbody>\n",
       "    <tr>\n",
       "      <th>0</th>\n",
       "      <td>NaN</td>\n",
       "      <td>NaN</td>\n",
       "      <td>NaN</td>\n",
       "    </tr>\n",
       "    <tr>\n",
       "      <th>1</th>\n",
       "      <td>1.0</td>\n",
       "      <td>The Race is On: Second Private Team Sets Launc...</td>\n",
       "      <td>3.0</td>\n",
       "    </tr>\n",
       "    <tr>\n",
       "      <th>2</th>\n",
       "      <td>2.0</td>\n",
       "      <td>Ky. Company Wins Grant to Study Peptides (AP) ...</td>\n",
       "      <td>3.0</td>\n",
       "    </tr>\n",
       "    <tr>\n",
       "      <th>3</th>\n",
       "      <td>3.0</td>\n",
       "      <td>Prediction Unit Helps Forecast Wildfires (AP) ...</td>\n",
       "      <td>3.0</td>\n",
       "    </tr>\n",
       "    <tr>\n",
       "      <th>4</th>\n",
       "      <td>4.0</td>\n",
       "      <td>Calif. Aims to Limit Farm-Related Smog (AP) AP...</td>\n",
       "      <td>3.0</td>\n",
       "    </tr>\n",
       "  </tbody>\n",
       "</table>\n",
       "</div>"
      ],
      "text/plain": [
       "   Unnamed: 0                                               text  label\n",
       "0         NaN                                                NaN    NaN\n",
       "1         1.0  The Race is On: Second Private Team Sets Launc...    3.0\n",
       "2         2.0  Ky. Company Wins Grant to Study Peptides (AP) ...    3.0\n",
       "3         3.0  Prediction Unit Helps Forecast Wildfires (AP) ...    3.0\n",
       "4         4.0  Calif. Aims to Limit Farm-Related Smog (AP) AP...    3.0"
      ]
     },
     "execution_count": 4,
     "metadata": {},
     "output_type": "execute_result"
    }
   ],
   "source": [
    "df.head()"
   ]
  },
  {
   "cell_type": "markdown",
   "id": "d707f962-d18d-4119-930a-42459920b9f4",
   "metadata": {},
   "source": [
    "### Basic Info"
   ]
  },
  {
   "cell_type": "code",
   "execution_count": 5,
   "id": "1cc64f61-de4b-4ae1-b83c-f94ce3565ef7",
   "metadata": {},
   "outputs": [
    {
     "data": {
      "text/plain": [
       "label\n",
       "3.0    1445\n",
       "2.0     339\n",
       "1.0      93\n",
       "0.0      81\n",
       "Name: count, dtype: int64"
      ]
     },
     "execution_count": 5,
     "metadata": {},
     "output_type": "execute_result"
    }
   ],
   "source": [
    "df[\"label\"].value_counts()"
   ]
  },
  {
   "cell_type": "code",
   "execution_count": 6,
   "id": "c0571588-113a-4723-a13b-ebd7c87d578d",
   "metadata": {},
   "outputs": [
    {
     "name": "stdout",
     "output_type": "stream",
     "text": [
      "<class 'pandas.core.frame.DataFrame'>\n",
      "RangeIndex: 7600 entries, 0 to 7599\n",
      "Data columns (total 3 columns):\n",
      " #   Column      Non-Null Count  Dtype  \n",
      "---  ------      --------------  -----  \n",
      " 0   Unnamed: 0  1958 non-null   float64\n",
      " 1   text        1958 non-null   object \n",
      " 2   label       1958 non-null   float64\n",
      "dtypes: float64(2), object(1)\n",
      "memory usage: 178.2+ KB\n"
     ]
    }
   ],
   "source": [
    "df.info()"
   ]
  },
  {
   "cell_type": "code",
   "execution_count": 7,
   "id": "5e3cd4a4-c174-46fc-8c2c-6bd7715ea1de",
   "metadata": {},
   "outputs": [],
   "source": [
    "#remove additonal and irrelevent columns\n",
    "df = df[[\"text\",\"label\"]]"
   ]
  },
  {
   "cell_type": "code",
   "execution_count": 8,
   "id": "22fec475-48f1-49e1-9611-5c1c685eeb9a",
   "metadata": {},
   "outputs": [
    {
     "data": {
      "text/plain": [
       "(7600, 2)"
      ]
     },
     "execution_count": 8,
     "metadata": {},
     "output_type": "execute_result"
    }
   ],
   "source": [
    "df.shape"
   ]
  },
  {
   "cell_type": "code",
   "execution_count": 9,
   "id": "047f92ec-effb-4958-851e-692989739deb",
   "metadata": {},
   "outputs": [],
   "source": [
    "df = df.dropna() #drop null values"
   ]
  },
  {
   "cell_type": "code",
   "execution_count": 10,
   "id": "0ab50d6b-ad43-4126-a891-5e95cc922c5b",
   "metadata": {},
   "outputs": [
    {
     "name": "stdout",
     "output_type": "stream",
     "text": [
      "<class 'pandas.core.frame.DataFrame'>\n",
      "Index: 1958 entries, 1 to 7599\n",
      "Data columns (total 2 columns):\n",
      " #   Column  Non-Null Count  Dtype  \n",
      "---  ------  --------------  -----  \n",
      " 0   text    1958 non-null   object \n",
      " 1   label   1958 non-null   float64\n",
      "dtypes: float64(1), object(1)\n",
      "memory usage: 45.9+ KB\n"
     ]
    }
   ],
   "source": [
    "df.info()"
   ]
  },
  {
   "cell_type": "code",
   "execution_count": 11,
   "id": "374570d1-b8db-4b05-8b3d-595d943bbe4d",
   "metadata": {},
   "outputs": [
    {
     "data": {
      "text/plain": [
       "(1958, 2)"
      ]
     },
     "execution_count": 11,
     "metadata": {},
     "output_type": "execute_result"
    }
   ],
   "source": [
    "df.shape "
   ]
  },
  {
   "cell_type": "code",
   "execution_count": 12,
   "id": "2fde42b8-ad16-4ce2-ad75-753e5f7f9c48",
   "metadata": {},
   "outputs": [
    {
     "data": {
      "text/html": [
       "<div>\n",
       "<style scoped>\n",
       "    .dataframe tbody tr th:only-of-type {\n",
       "        vertical-align: middle;\n",
       "    }\n",
       "\n",
       "    .dataframe tbody tr th {\n",
       "        vertical-align: top;\n",
       "    }\n",
       "\n",
       "    .dataframe thead th {\n",
       "        text-align: right;\n",
       "    }\n",
       "</style>\n",
       "<table border=\"1\" class=\"dataframe\">\n",
       "  <thead>\n",
       "    <tr style=\"text-align: right;\">\n",
       "      <th></th>\n",
       "      <th>text</th>\n",
       "      <th>label</th>\n",
       "    </tr>\n",
       "  </thead>\n",
       "  <tbody>\n",
       "    <tr>\n",
       "      <th>1</th>\n",
       "      <td>The Race is On: Second Private Team Sets Launc...</td>\n",
       "      <td>3.0</td>\n",
       "    </tr>\n",
       "    <tr>\n",
       "      <th>2</th>\n",
       "      <td>Ky. Company Wins Grant to Study Peptides (AP) ...</td>\n",
       "      <td>3.0</td>\n",
       "    </tr>\n",
       "    <tr>\n",
       "      <th>3</th>\n",
       "      <td>Prediction Unit Helps Forecast Wildfires (AP) ...</td>\n",
       "      <td>3.0</td>\n",
       "    </tr>\n",
       "    <tr>\n",
       "      <th>4</th>\n",
       "      <td>Calif. Aims to Limit Farm-Related Smog (AP) AP...</td>\n",
       "      <td>3.0</td>\n",
       "    </tr>\n",
       "    <tr>\n",
       "      <th>5</th>\n",
       "      <td>Open Letter Against British Copyright Indoctri...</td>\n",
       "      <td>3.0</td>\n",
       "    </tr>\n",
       "  </tbody>\n",
       "</table>\n",
       "</div>"
      ],
      "text/plain": [
       "                                                text  label\n",
       "1  The Race is On: Second Private Team Sets Launc...    3.0\n",
       "2  Ky. Company Wins Grant to Study Peptides (AP) ...    3.0\n",
       "3  Prediction Unit Helps Forecast Wildfires (AP) ...    3.0\n",
       "4  Calif. Aims to Limit Farm-Related Smog (AP) AP...    3.0\n",
       "5  Open Letter Against British Copyright Indoctri...    3.0"
      ]
     },
     "execution_count": 12,
     "metadata": {},
     "output_type": "execute_result"
    }
   ],
   "source": [
    "df.head()"
   ]
  },
  {
   "cell_type": "code",
   "execution_count": 13,
   "id": "da1e7a89-5262-474b-a78d-00831251541f",
   "metadata": {},
   "outputs": [
    {
     "data": {
      "text/plain": [
       "label\n",
       "3.0    1445\n",
       "2.0     339\n",
       "1.0      93\n",
       "0.0      81\n",
       "Name: count, dtype: int64"
      ]
     },
     "execution_count": 13,
     "metadata": {},
     "output_type": "execute_result"
    }
   ],
   "source": [
    "df[\"label\"].value_counts()"
   ]
  },
  {
   "cell_type": "markdown",
   "id": "b82c6ad0-4ab0-41b3-a790-6d3a45ef2d12",
   "metadata": {},
   "source": [
    "### Plot"
   ]
  },
  {
   "cell_type": "code",
   "execution_count": 14,
   "id": "f07aed67-1959-4575-b064-ead974309b40",
   "metadata": {},
   "outputs": [
    {
     "data": {
      "text/plain": [
       "([0, 1, 2, 3], [81, 93, 339, 1445])"
      ]
     },
     "execution_count": 14,
     "metadata": {},
     "output_type": "execute_result"
    }
   ],
   "source": [
    "label_counts = []\n",
    "labels = []\n",
    "\n",
    "for i in range(4):\n",
    "    labels.append(i)\n",
    "    label_counts.append(df[\"label\"].value_counts()[i])\n",
    "\n",
    "labels , label_counts"
   ]
  },
  {
   "cell_type": "code",
   "execution_count": 15,
   "id": "667201c4-c579-496b-96c2-1152ada009cf",
   "metadata": {},
   "outputs": [
    {
     "data": {
      "image/png": "[encoded data removed]",
      "text/plain": [
       "<Figure size 640x480 with 1 Axes>"
      ]
     },
     "metadata": {},
     "output_type": "display_data"
    }
   ],
   "source": [
    "plt.bar(labels, label_counts)\n",
    "plt.xlabel('Label')\n",
    "plt.ylabel('Count')\n",
    "plt.title('Class Distribution')\n",
    "plt.show()"
   ]
  },
  {
   "cell_type": "code",
   "execution_count": 16,
   "id": "cc4b5e9c-1867-450f-aff7-bce367198283",
   "metadata": {},
   "outputs": [
    {
     "data": {
      "image/png": "[encoded data removed]",
      "text/plain": [
       "<Figure size 640x480 with 1 Axes>"
      ]
     },
     "metadata": {},
     "output_type": "display_data"
    }
   ],
   "source": [
    "token_lengths = [len(text.split()) for text in df['text']]\n",
    "plt.hist(token_lengths, bins=50)\n",
    "plt.xlabel('Token Length')\n",
    "plt.ylabel('Number of Samples')\n",
    "plt.title('Distribution of Token Lengths')\n",
    "plt.show()\n"
   ]
  },
  {
   "cell_type": "markdown",
   "id": "92150366-1ade-4728-a364-fd7dae7d0b36",
   "metadata": {},
   "source": [
    "- Class Dist\n",
    "    - Data is highly imbalance we need to make sure that datapoints supposed to be equal\n",
    "    - Merging of datapoints of 0,1,2 and make them as a single class may work. it'll helpfull in focus over class 3.\n",
    "- Hist\n",
    "    - Most text samples have token lengths between 30 and 50.\n",
    "    - There are outliers at both ends—extremely short texts (approx. 12 tokens) and extremely long texts (approx. 137 tokens).\n",
    "    - The distribution is somewhat right-skewed, with fewer long texts.\n",
    "    - Setting a max sequence length around 50-60 tokens would likely capture most of the dataset without excessive truncation or padding."
   ]
  },
  {
   "cell_type": "code",
   "execution_count": 17,
   "id": "f6131b44-1768-499d-863e-bee6f2d2d4ac",
   "metadata": {},
   "outputs": [],
   "source": [
    "df = df.replace(1, 0)\n",
    "df= df.replace(2, 0)\n",
    "df= df.replace(3, 1)"
   ]
  },
  {
   "cell_type": "code",
   "execution_count": 18,
   "id": "d39411a8-83de-49e2-8df5-4398da9c5a9f",
   "metadata": {},
   "outputs": [
    {
     "data": {
      "text/plain": [
       "label\n",
       "1.0    1445\n",
       "0.0     513\n",
       "Name: count, dtype: int64"
      ]
     },
     "execution_count": 18,
     "metadata": {},
     "output_type": "execute_result"
    }
   ],
   "source": [
    "df[\"label\"].value_counts()"
   ]
  },
  {
   "cell_type": "code",
   "execution_count": 19,
   "id": "8cb55983-4fd7-4f5f-8b07-1d1aea0f7dbe",
   "metadata": {},
   "outputs": [
    {
     "data": {
      "text/html": [
       "<div>\n",
       "<style scoped>\n",
       "    .dataframe tbody tr th:only-of-type {\n",
       "        vertical-align: middle;\n",
       "    }\n",
       "\n",
       "    .dataframe tbody tr th {\n",
       "        vertical-align: top;\n",
       "    }\n",
       "\n",
       "    .dataframe thead th {\n",
       "        text-align: right;\n",
       "    }\n",
       "</style>\n",
       "<table border=\"1\" class=\"dataframe\">\n",
       "  <thead>\n",
       "    <tr style=\"text-align: right;\">\n",
       "      <th></th>\n",
       "      <th>text</th>\n",
       "      <th>label</th>\n",
       "    </tr>\n",
       "  </thead>\n",
       "  <tbody>\n",
       "    <tr>\n",
       "      <th>1</th>\n",
       "      <td>The Race is On: Second Private Team Sets Launc...</td>\n",
       "      <td>1.0</td>\n",
       "    </tr>\n",
       "    <tr>\n",
       "      <th>2</th>\n",
       "      <td>Ky. Company Wins Grant to Study Peptides (AP) ...</td>\n",
       "      <td>1.0</td>\n",
       "    </tr>\n",
       "    <tr>\n",
       "      <th>3</th>\n",
       "      <td>Prediction Unit Helps Forecast Wildfires (AP) ...</td>\n",
       "      <td>1.0</td>\n",
       "    </tr>\n",
       "    <tr>\n",
       "      <th>4</th>\n",
       "      <td>Calif. Aims to Limit Farm-Related Smog (AP) AP...</td>\n",
       "      <td>1.0</td>\n",
       "    </tr>\n",
       "    <tr>\n",
       "      <th>5</th>\n",
       "      <td>Open Letter Against British Copyright Indoctri...</td>\n",
       "      <td>1.0</td>\n",
       "    </tr>\n",
       "  </tbody>\n",
       "</table>\n",
       "</div>"
      ],
      "text/plain": [
       "                                                text  label\n",
       "1  The Race is On: Second Private Team Sets Launc...    1.0\n",
       "2  Ky. Company Wins Grant to Study Peptides (AP) ...    1.0\n",
       "3  Prediction Unit Helps Forecast Wildfires (AP) ...    1.0\n",
       "4  Calif. Aims to Limit Farm-Related Smog (AP) AP...    1.0\n",
       "5  Open Letter Against British Copyright Indoctri...    1.0"
      ]
     },
     "execution_count": 19,
     "metadata": {},
     "output_type": "execute_result"
    }
   ],
   "source": [
    "df.head()"
   ]
  },
  {
   "cell_type": "markdown",
   "id": "37f8f423-dcb0-42fe-91b2-7f5aece879e6",
   "metadata": {},
   "source": [
    "### check cuda"
   ]
  },
  {
   "cell_type": "code",
   "execution_count": 20,
   "id": "252e6de8-9846-4f6d-b090-1979655f569c",
   "metadata": {},
   "outputs": [
    {
     "name": "stdout",
     "output_type": "stream",
     "text": [
      "True\n"
     ]
    }
   ],
   "source": [
    "import torch\n",
    "\n",
    "print(torch.cuda.is_available())  # Should return True if CUDA is available\n"
   ]
  },
  {
   "cell_type": "markdown",
   "id": "abca4745-fca8-44db-829a-6f1b50018db7",
   "metadata": {},
   "source": [
    "### BERT Testing"
   ]
  },
  {
   "cell_type": "code",
   "execution_count": 21,
   "id": "edfafa81-6111-4d45-94a9-ea53133f316c",
   "metadata": {},
   "outputs": [
    {
     "name": "stdout",
     "output_type": "stream",
     "text": [
      "Input IDs: [101, 7592, 1010, 2023, 2003, 1037, 14324, 14924, 4818, 999, 102]\n"
     ]
    },
    {
     "name": "stderr",
     "output_type": "stream",
     "text": [
      "C:\\Users\\amank\\AppData\\Local\\Programs\\Python\\Python310\\lib\\site-packages\\transformers\\tokenization_utils_base.py:1601: FutureWarning: `clean_up_tokenization_spaces` was not set. It will be set to `True` by default. This behavior will be depracted in transformers v4.45, and will be then set to `False` by default. For more details check this issue: https://github.com/huggingface/transformers/issues/31884\n",
      "  warnings.warn(\n"
     ]
    }
   ],
   "source": [
    "from transformers import BertTokenizer\n",
    "\n",
    "# Load the BERT tokenizer\n",
    "tokenizer = BertTokenizer.from_pretrained('bert-base-uncased', do_lower_case=True)\n",
    "\n",
    "# Tokenize the sentence\n",
    "input_ids = tokenizer.encode('Hello, this is a BERT tutorial!', add_special_tokens=True)\n",
    "\n",
    "print('Input IDs:', input_ids)"
   ]
  },
  {
   "cell_type": "markdown",
   "id": "e4980d78-320b-4fd9-9490-69ba4357b3c3",
   "metadata": {},
   "source": [
    "### Processing"
   ]
  },
  {
   "cell_type": "code",
   "execution_count": 22,
   "id": "a86640d3-896f-4cb6-ac06-a45d12b24195",
   "metadata": {},
   "outputs": [],
   "source": [
    "# Define max length for padding/truncation\n",
    "max_length = 55"
   ]
  },
  {
   "cell_type": "code",
   "execution_count": 23,
   "id": "375fa882-ea65-42ba-b8da-56f1e004107f",
   "metadata": {},
   "outputs": [],
   "source": [
    "# Tokenize the dataset\n",
    "tokens = tokenizer(\n",
    "    df['text'].tolist(),\n",
    "    max_length=max_length,\n",
    "    padding='max_length',  # Pad sequences to the same length\n",
    "    truncation=True,       # Truncate sequences longer than max_length\n",
    "    return_tensors='pt'    # Return PyTorch tensors\n",
    ")"
   ]
  },
  {
   "cell_type": "code",
   "execution_count": 24,
   "id": "e0506559-d16c-469d-828b-85cfd5a51efa",
   "metadata": {},
   "outputs": [],
   "source": [
    "# Extract token IDs and attention masks\n",
    "input_ids = tokens['input_ids']\n",
    "attention_masks = tokens['attention_mask']"
   ]
  },
  {
   "cell_type": "code",
   "execution_count": 25,
   "id": "23211ee2-e7d1-42ba-8dda-23ae97e7d0dd",
   "metadata": {},
   "outputs": [
    {
     "data": {
      "text/plain": [
       "(1958, 1958)"
      ]
     },
     "execution_count": 25,
     "metadata": {},
     "output_type": "execute_result"
    }
   ],
   "source": [
    "len(input_ids) , len(attention_masks)"
   ]
  },
  {
   "cell_type": "code",
   "execution_count": 26,
   "id": "a83c42fb-6872-42af-90c0-d2d1da8679ab",
   "metadata": {},
   "outputs": [],
   "source": [
    "#Preparling labels\n",
    "\n",
    "import torch\n",
    "\n",
    "labels = torch.tensor(df['label'].values)"
   ]
  },
  {
   "cell_type": "code",
   "execution_count": 27,
   "id": "b124defa-e6c9-49e2-ba54-2d2828f2da92",
   "metadata": {},
   "outputs": [],
   "source": [
    "from torch.utils.data import DataLoader, TensorDataset\n",
    "\n",
    "# Create a dataset\n",
    "dataset = TensorDataset(input_ids, attention_masks, labels)\n",
    "\n",
    "# Create a DataLoader\n",
    "batch_size = 32\n",
    "dataloader = DataLoader(dataset, batch_size=batch_size, shuffle=True)"
   ]
  },
  {
   "cell_type": "code",
   "execution_count": 28,
   "id": "41951ecc-f27f-4719-bfe3-3ff6ff13d3c0",
   "metadata": {},
   "outputs": [
    {
     "name": "stderr",
     "output_type": "stream",
     "text": [
      "A parameter name that contains `beta` will be renamed internally to `bias`. Please use a different name to suppress this warning.\n",
      "A parameter name that contains `gamma` will be renamed internally to `weight`. Please use a different name to suppress this warning.\n",
      "A parameter name that contains `beta` will be renamed internally to `bias`. Please use a different name to suppress this warning.\n",
      "A parameter name that contains `gamma` will be renamed internally to `weight`. Please use a different name to suppress this warning.\n",
      "A parameter name that contains `beta` will be renamed internally to `bias`. Please use a different name to suppress this warning.\n",
      "A parameter name that contains `gamma` will be renamed internally to `weight`. Please use a different name to suppress this warning.\n",
      "A parameter name that contains `beta` will be renamed internally to `bias`. Please use a different name to suppress this warning.\n",
      "A parameter name that contains `gamma` will be renamed internally to `weight`. Please use a different name to suppress this warning.\n",
      "A parameter name that contains `beta` will be renamed internally to `bias`. Please use a different name to suppress this warning.\n",
      "A parameter name that contains `gamma` will be renamed internally to `weight`. Please use a different name to suppress this warning.\n",
      "A parameter name that contains `beta` will be renamed internally to `bias`. Please use a different name to suppress this warning.\n",
      "A parameter name that contains `gamma` will be renamed internally to `weight`. Please use a different name to suppress this warning.\n",
      "A parameter name that contains `beta` will be renamed internally to `bias`. Please use a different name to suppress this warning.\n",
      "A parameter name that contains `gamma` will be renamed internally to `weight`. Please use a different name to suppress this warning.\n",
      "A parameter name that contains `beta` will be renamed internally to `bias`. Please use a different name to suppress this warning.\n",
      "A parameter name that contains `gamma` will be renamed internally to `weight`. Please use a different name to suppress this warning.\n",
      "A parameter name that contains `beta` will be renamed internally to `bias`. Please use a different name to suppress this warning.\n",
      "A parameter name that contains `gamma` will be renamed internally to `weight`. Please use a different name to suppress this warning.\n",
      "A parameter name that contains `beta` will be renamed internally to `bias`. Please use a different name to suppress this warning.\n",
      "A parameter name that contains `gamma` will be renamed internally to `weight`. Please use a different name to suppress this warning.\n",
      "A parameter name that contains `beta` will be renamed internally to `bias`. Please use a different name to suppress this warning.\n",
      "A parameter name that contains `gamma` will be renamed internally to `weight`. Please use a different name to suppress this warning.\n",
      "A parameter name that contains `beta` will be renamed internally to `bias`. Please use a different name to suppress this warning.\n",
      "A parameter name that contains `gamma` will be renamed internally to `weight`. Please use a different name to suppress this warning.\n",
      "A parameter name that contains `beta` will be renamed internally to `bias`. Please use a different name to suppress this warning.\n",
      "A parameter name that contains `gamma` will be renamed internally to `weight`. Please use a different name to suppress this warning.\n",
      "A parameter name that contains `beta` will be renamed internally to `bias`. Please use a different name to suppress this warning.\n",
      "A parameter name that contains `gamma` will be renamed internally to `weight`. Please use a different name to suppress this warning.\n",
      "A parameter name that contains `beta` will be renamed internally to `bias`. Please use a different name to suppress this warning.\n",
      "A parameter name that contains `gamma` will be renamed internally to `weight`. Please use a different name to suppress this warning.\n",
      "A parameter name that contains `beta` will be renamed internally to `bias`. Please use a different name to suppress this warning.\n",
      "A parameter name that contains `gamma` will be renamed internally to `weight`. Please use a different name to suppress this warning.\n",
      "A parameter name that contains `beta` will be renamed internally to `bias`. Please use a different name to suppress this warning.\n",
      "A parameter name that contains `gamma` will be renamed internally to `weight`. Please use a different name to suppress this warning.\n",
      "A parameter name that contains `beta` will be renamed internally to `bias`. Please use a different name to suppress this warning.\n",
      "A parameter name that contains `gamma` will be renamed internally to `weight`. Please use a different name to suppress this warning.\n",
      "A parameter name that contains `beta` will be renamed internally to `bias`. Please use a different name to suppress this warning.\n",
      "A parameter name that contains `gamma` will be renamed internally to `weight`. Please use a different name to suppress this warning.\n",
      "A parameter name that contains `beta` will be renamed internally to `bias`. Please use a different name to suppress this warning.\n",
      "A parameter name that contains `gamma` will be renamed internally to `weight`. Please use a different name to suppress this warning.\n",
      "A parameter name that contains `beta` will be renamed internally to `bias`. Please use a different name to suppress this warning.\n",
      "A parameter name that contains `gamma` will be renamed internally to `weight`. Please use a different name to suppress this warning.\n",
      "A parameter name that contains `beta` will be renamed internally to `bias`. Please use a different name to suppress this warning.\n",
      "A parameter name that contains `gamma` will be renamed internally to `weight`. Please use a different name to suppress this warning.\n",
      "A parameter name that contains `beta` will be renamed internally to `bias`. Please use a different name to suppress this warning.\n",
      "A parameter name that contains `gamma` will be renamed internally to `weight`. Please use a different name to suppress this warning.\n",
      "A parameter name that contains `beta` will be renamed internally to `bias`. Please use a different name to suppress this warning.\n",
      "A parameter name that contains `gamma` will be renamed internally to `weight`. Please use a different name to suppress this warning.\n",
      "A parameter name that contains `beta` will be renamed internally to `bias`. Please use a different name to suppress this warning.\n",
      "A parameter name that contains `gamma` will be renamed internally to `weight`. Please use a different name to suppress this warning.\n",
      "A parameter name that contains `beta` will be renamed internally to `bias`. Please use a different name to suppress this warning.\n",
      "A parameter name that contains `gamma` will be renamed internally to `weight`. Please use a different name to suppress this warning.\n",
      "Some weights of BertForSequenceClassification were not initialized from the model checkpoint at bert-base-uncased and are newly initialized: ['classifier.bias', 'classifier.weight']\n",
      "You should probably TRAIN this model on a down-stream task to be able to use it for predictions and inference.\n"
     ]
    },
    {
     "data": {
      "text/plain": [
       "BertForSequenceClassification(\n",
       "  (bert): BertModel(\n",
       "    (embeddings): BertEmbeddings(\n",
       "      (word_embeddings): Embedding(30522, 768, padding_idx=0)\n",
       "      (position_embeddings): Embedding(512, 768)\n",
       "      (token_type_embeddings): Embedding(2, 768)\n",
       "      (LayerNorm): LayerNorm((768,), eps=1e-12, elementwise_affine=True)\n",
       "      (dropout): Dropout(p=0.1, inplace=False)\n",
       "    )\n",
       "    (encoder): BertEncoder(\n",
       "      (layer): ModuleList(\n",
       "        (0-11): 12 x BertLayer(\n",
       "          (attention): BertAttention(\n",
       "            (self): BertSdpaSelfAttention(\n",
       "              (query): Linear(in_features=768, out_features=768, bias=True)\n",
       "              (key): Linear(in_features=768, out_features=768, bias=True)\n",
       "              (value): Linear(in_features=768, out_features=768, bias=True)\n",
       "              (dropout): Dropout(p=0.1, inplace=False)\n",
       "            )\n",
       "            (output): BertSelfOutput(\n",
       "              (dense): Linear(in_features=768, out_features=768, bias=True)\n",
       "              (LayerNorm): LayerNorm((768,), eps=1e-12, elementwise_affine=True)\n",
       "              (dropout): Dropout(p=0.1, inplace=False)\n",
       "            )\n",
       "          )\n",
       "          (intermediate): BertIntermediate(\n",
       "            (dense): Linear(in_features=768, out_features=3072, bias=True)\n",
       "            (intermediate_act_fn): GELUActivation()\n",
       "          )\n",
       "          (output): BertOutput(\n",
       "            (dense): Linear(in_features=3072, out_features=768, bias=True)\n",
       "            (LayerNorm): LayerNorm((768,), eps=1e-12, elementwise_affine=True)\n",
       "            (dropout): Dropout(p=0.1, inplace=False)\n",
       "          )\n",
       "        )\n",
       "      )\n",
       "    )\n",
       "    (pooler): BertPooler(\n",
       "      (dense): Linear(in_features=768, out_features=768, bias=True)\n",
       "      (activation): Tanh()\n",
       "    )\n",
       "  )\n",
       "  (dropout): Dropout(p=0.1, inplace=False)\n",
       "  (classifier): Linear(in_features=768, out_features=4, bias=True)\n",
       ")"
      ]
     },
     "execution_count": 28,
     "metadata": {},
     "output_type": "execute_result"
    }
   ],
   "source": [
    "from transformers import BertForSequenceClassification\n",
    "\n",
    "# Load pre-trained BERT model for classification\n",
    "model = BertForSequenceClassification.from_pretrained('bert-base-uncased', num_labels=4)\n",
    "\n",
    "# Move the model to GPU if available\n",
    "device = torch.device('cuda' if torch.cuda.is_available() else 'cpu')\n",
    "model.to(device)"
   ]
  },
  {
   "cell_type": "code",
   "execution_count": 29,
   "id": "ae256d47-fe8b-4a80-a477-6c4c3fb8eeb5",
   "metadata": {},
   "outputs": [],
   "source": [
    "num_classes = model.config.num_labels  # Assuming you're using BertForSequenceClassification\n",
    "if torch.any(labels >= num_classes) or torch.any(labels < 0):\n",
    "    print(\"Invalid label values detected.\")\n"
   ]
  },
  {
   "cell_type": "code",
   "execution_count": 30,
   "id": "146a0e55-cfb9-4386-9e25-bd8b1b56bbc0",
   "metadata": {},
   "outputs": [
    {
     "name": "stdout",
     "output_type": "stream",
     "text": [
      "Invalid labels found: tensor([], dtype=torch.float64)\n"
     ]
    }
   ],
   "source": [
    "invalid_labels = labels[(labels >= num_classes) | (labels < 0)].cpu()\n",
    "print(\"Invalid labels found:\", invalid_labels)"
   ]
  },
  {
   "cell_type": "code",
   "execution_count": 31,
   "id": "ac62d7d6-0994-420e-b656-631d9779bacc",
   "metadata": {},
   "outputs": [
    {
     "name": "stdout",
     "output_type": "stream",
     "text": [
      "Number of invalid labels: 0\n"
     ]
    }
   ],
   "source": [
    "print(\"Number of invalid labels:\", len(invalid_labels))"
   ]
  },
  {
   "cell_type": "code",
   "execution_count": 32,
   "id": "334927c4-3fa4-4241-b696-81f84374cc4d",
   "metadata": {},
   "outputs": [
    {
     "name": "stdout",
     "output_type": "stream",
     "text": [
      "tensor([0., 1.], dtype=torch.float64)\n"
     ]
    }
   ],
   "source": [
    "print(torch.unique(labels))"
   ]
  },
  {
   "cell_type": "code",
   "execution_count": 33,
   "id": "172eb2ea-50db-4ab3-8412-fdcf3d4c9d9d",
   "metadata": {},
   "outputs": [
    {
     "name": "stderr",
     "output_type": "stream",
     "text": [
      "C:\\Users\\amank\\AppData\\Local\\Programs\\Python\\Python310\\lib\\site-packages\\transformers\\optimization.py:591: FutureWarning: This implementation of AdamW is deprecated and will be removed in a future version. Use the PyTorch implementation torch.optim.AdamW instead, or set `no_deprecation_warning=True` to disable this warning\n",
      "  warnings.warn(\n"
     ]
    }
   ],
   "source": [
    "from transformers import AdamW\n",
    "\n",
    "optimizer = AdamW(model.parameters(), lr=2e-5)"
   ]
  },
  {
   "cell_type": "code",
   "execution_count": 34,
   "id": "f7842501-d7c0-48ea-8524-303c5e80cf89",
   "metadata": {},
   "outputs": [
    {
     "name": "stderr",
     "output_type": "stream",
     "text": [
      "C:\\Users\\amank\\AppData\\Local\\Programs\\Python\\Python310\\lib\\site-packages\\transformers\\models\\bert\\modeling_bert.py:439: UserWarning: 1Torch was not compiled with flash attention. (Triggered internally at C:\\actions-runner\\_work\\pytorch\\pytorch\\builder\\windows\\pytorch\\aten\\src\\ATen\\native\\transformers\\cuda\\sdp_utils.cpp:555.)\n",
      "  attn_output = torch.nn.functional.scaled_dot_product_attention(\n"
     ]
    },
    {
     "name": "stdout",
     "output_type": "stream",
     "text": [
      "Total Loss: 37.01035329699516\n"
     ]
    }
   ],
   "source": [
    "from torch.nn import CrossEntropyLoss\n",
    "\n",
    "loss_fn = CrossEntropyLoss()\n",
    "\n",
    "# Initialize total_loss\n",
    "total_loss = 0.0\n",
    "\n",
    "for batch in dataloader:\n",
    "    input_ids, attention_masks, labels = [x.to(device) for x in batch]\n",
    "    \n",
    "    optimizer.zero_grad()\n",
    "    \n",
    "    # Forward pass\n",
    "    outputs = model(input_ids, attention_mask=attention_masks)\n",
    "    logits = outputs.logits\n",
    "    \n",
    "    # Ensure logits are FloatTensor and labels are LongTensor\n",
    "    logits = logits.float()\n",
    "    labels = labels.long()\n",
    "    \n",
    "    # Compute the loss\n",
    "    loss = loss_fn(logits, labels)\n",
    "    \n",
    "    # Backward pass and optimization\n",
    "    loss.backward()\n",
    "    optimizer.step()\n",
    "    \n",
    "    # Accumulate loss\n",
    "    total_loss += loss.item()\n",
    "\n",
    "print(\"Total Loss:\", total_loss)\n"
   ]
  },
  {
   "cell_type": "code",
   "execution_count": 35,
   "id": "9b339836-6c3d-4d33-a93f-92b0d80371f5",
   "metadata": {},
   "outputs": [
    {
     "data": {
      "text/plain": [
       "BertForSequenceClassification(\n",
       "  (bert): BertModel(\n",
       "    (embeddings): BertEmbeddings(\n",
       "      (word_embeddings): Embedding(30522, 768, padding_idx=0)\n",
       "      (position_embeddings): Embedding(512, 768)\n",
       "      (token_type_embeddings): Embedding(2, 768)\n",
       "      (LayerNorm): LayerNorm((768,), eps=1e-12, elementwise_affine=True)\n",
       "      (dropout): Dropout(p=0.1, inplace=False)\n",
       "    )\n",
       "    (encoder): BertEncoder(\n",
       "      (layer): ModuleList(\n",
       "        (0-11): 12 x BertLayer(\n",
       "          (attention): BertAttention(\n",
       "            (self): BertSdpaSelfAttention(\n",
       "              (query): Linear(in_features=768, out_features=768, bias=True)\n",
       "              (key): Linear(in_features=768, out_features=768, bias=True)\n",
       "              (value): Linear(in_features=768, out_features=768, bias=True)\n",
       "              (dropout): Dropout(p=0.1, inplace=False)\n",
       "            )\n",
       "            (output): BertSelfOutput(\n",
       "              (dense): Linear(in_features=768, out_features=768, bias=True)\n",
       "              (LayerNorm): LayerNorm((768,), eps=1e-12, elementwise_affine=True)\n",
       "              (dropout): Dropout(p=0.1, inplace=False)\n",
       "            )\n",
       "          )\n",
       "          (intermediate): BertIntermediate(\n",
       "            (dense): Linear(in_features=768, out_features=3072, bias=True)\n",
       "            (intermediate_act_fn): GELUActivation()\n",
       "          )\n",
       "          (output): BertOutput(\n",
       "            (dense): Linear(in_features=3072, out_features=768, bias=True)\n",
       "            (LayerNorm): LayerNorm((768,), eps=1e-12, elementwise_affine=True)\n",
       "            (dropout): Dropout(p=0.1, inplace=False)\n",
       "          )\n",
       "        )\n",
       "      )\n",
       "    )\n",
       "    (pooler): BertPooler(\n",
       "      (dense): Linear(in_features=768, out_features=768, bias=True)\n",
       "      (activation): Tanh()\n",
       "    )\n",
       "  )\n",
       "  (dropout): Dropout(p=0.1, inplace=False)\n",
       "  (classifier): Linear(in_features=768, out_features=4, bias=True)\n",
       ")"
      ]
     },
     "execution_count": 35,
     "metadata": {},
     "output_type": "execute_result"
    }
   ],
   "source": [
    "model.eval()"
   ]
  },
  {
   "cell_type": "markdown",
   "id": "055e5990-bdbd-4ae9-937d-55b490abe1ce",
   "metadata": {},
   "source": [
    "## Testing"
   ]
  },
  {
   "cell_type": "code",
   "execution_count": 36,
   "id": "bb0b3400-6d0f-4c45-af83-e51c3552c4c7",
   "metadata": {},
   "outputs": [],
   "source": [
    "testdf = pd.read_parquet(\"./ClusteringDataSet/test-00000-of-00001.parquet\")"
   ]
  },
  {
   "cell_type": "code",
   "execution_count": 37,
   "id": "cd0a6325-3280-4380-aa07-beb29dd7677e",
   "metadata": {},
   "outputs": [
    {
     "data": {
      "text/html": [
       "<div>\n",
       "<style scoped>\n",
       "    .dataframe tbody tr th:only-of-type {\n",
       "        vertical-align: middle;\n",
       "    }\n",
       "\n",
       "    .dataframe tbody tr th {\n",
       "        vertical-align: top;\n",
       "    }\n",
       "\n",
       "    .dataframe thead th {\n",
       "        text-align: right;\n",
       "    }\n",
       "</style>\n",
       "<table border=\"1\" class=\"dataframe\">\n",
       "  <thead>\n",
       "    <tr style=\"text-align: right;\">\n",
       "      <th></th>\n",
       "      <th>text</th>\n",
       "      <th>label</th>\n",
       "    </tr>\n",
       "  </thead>\n",
       "  <tbody>\n",
       "    <tr>\n",
       "      <th>0</th>\n",
       "      <td>Fears for T N pension after talks Unions repre...</td>\n",
       "      <td>2</td>\n",
       "    </tr>\n",
       "    <tr>\n",
       "      <th>1</th>\n",
       "      <td>The Race is On: Second Private Team Sets Launc...</td>\n",
       "      <td>3</td>\n",
       "    </tr>\n",
       "    <tr>\n",
       "      <th>2</th>\n",
       "      <td>Ky. Company Wins Grant to Study Peptides (AP) ...</td>\n",
       "      <td>3</td>\n",
       "    </tr>\n",
       "    <tr>\n",
       "      <th>3</th>\n",
       "      <td>Prediction Unit Helps Forecast Wildfires (AP) ...</td>\n",
       "      <td>3</td>\n",
       "    </tr>\n",
       "    <tr>\n",
       "      <th>4</th>\n",
       "      <td>Calif. Aims to Limit Farm-Related Smog (AP) AP...</td>\n",
       "      <td>3</td>\n",
       "    </tr>\n",
       "    <tr>\n",
       "      <th>...</th>\n",
       "      <td>...</td>\n",
       "      <td>...</td>\n",
       "    </tr>\n",
       "    <tr>\n",
       "      <th>7595</th>\n",
       "      <td>Around the world Ukrainian presidential candid...</td>\n",
       "      <td>0</td>\n",
       "    </tr>\n",
       "    <tr>\n",
       "      <th>7596</th>\n",
       "      <td>Void is filled with Clement With the supply of...</td>\n",
       "      <td>1</td>\n",
       "    </tr>\n",
       "    <tr>\n",
       "      <th>7597</th>\n",
       "      <td>Martinez leaves bitter Like Roger Clemens did ...</td>\n",
       "      <td>1</td>\n",
       "    </tr>\n",
       "    <tr>\n",
       "      <th>7598</th>\n",
       "      <td>5 of arthritis patients in Singapore take Bext...</td>\n",
       "      <td>2</td>\n",
       "    </tr>\n",
       "    <tr>\n",
       "      <th>7599</th>\n",
       "      <td>EBay gets into rentals EBay plans to buy the a...</td>\n",
       "      <td>2</td>\n",
       "    </tr>\n",
       "  </tbody>\n",
       "</table>\n",
       "<p>7600 rows × 2 columns</p>\n",
       "</div>"
      ],
      "text/plain": [
       "                                                   text  label\n",
       "0     Fears for T N pension after talks Unions repre...      2\n",
       "1     The Race is On: Second Private Team Sets Launc...      3\n",
       "2     Ky. Company Wins Grant to Study Peptides (AP) ...      3\n",
       "3     Prediction Unit Helps Forecast Wildfires (AP) ...      3\n",
       "4     Calif. Aims to Limit Farm-Related Smog (AP) AP...      3\n",
       "...                                                 ...    ...\n",
       "7595  Around the world Ukrainian presidential candid...      0\n",
       "7596  Void is filled with Clement With the supply of...      1\n",
       "7597  Martinez leaves bitter Like Roger Clemens did ...      1\n",
       "7598  5 of arthritis patients in Singapore take Bext...      2\n",
       "7599  EBay gets into rentals EBay plans to buy the a...      2\n",
       "\n",
       "[7600 rows x 2 columns]"
      ]
     },
     "execution_count": 37,
     "metadata": {},
     "output_type": "execute_result"
    }
   ],
   "source": [
    "testdf"
   ]
  },
  {
   "cell_type": "code",
   "execution_count": 38,
   "id": "5b7aad64-ff40-48e7-ac08-446805e2cb3f",
   "metadata": {},
   "outputs": [],
   "source": [
    "# Tokenize and pad the test dataset\n",
    "inputs = tokenizer(testdf['text'].tolist(), padding=True, truncation=True, max_length=55, return_tensors='pt')\n",
    "\n",
    "# Extract input tensors\n",
    "test_input_ids = inputs['input_ids']\n",
    "test_attention_masks = inputs['attention_mask']"
   ]
  },
  {
   "cell_type": "code",
   "execution_count": 39,
   "id": "9341f038-92b3-4ffd-8457-4783dd439b27",
   "metadata": {},
   "outputs": [],
   "source": [
    "from torch.utils.data import DataLoader, TensorDataset\n",
    "\n",
    "# Assuming `test_labels` are not needed for inference, otherwise include them\n",
    "test_dataset = TensorDataset(test_input_ids, test_attention_masks)\n",
    "test_dataloader = DataLoader(test_dataset, batch_size=32, shuffle=False)"
   ]
  },
  {
   "cell_type": "code",
   "execution_count": 40,
   "id": "3c197a2c-ce68-44c3-981d-83797dfe3798",
   "metadata": {},
   "outputs": [],
   "source": [
    "testdf = testdf.replace(1, 0)\n",
    "testdf = testdf.replace(2, 0)\n",
    "testdf = testdf.replace(3, 1)"
   ]
  },
  {
   "cell_type": "code",
   "execution_count": 67,
   "id": "854b213d-797b-4483-92d0-51cd55537dea",
   "metadata": {},
   "outputs": [],
   "source": [
    "from sklearn.metrics import accuracy_score, classification_report\n",
    "\n",
    "# Initialize lists to store predictions\n",
    "predictions = []\n",
    "threshold = 0.90 # to imporve precision for class 1 \n",
    "with torch.no_grad():\n",
    "    for batch in test_dataloader:\n",
    "        input_ids, attention_masks = [x.to(device) for x in batch]\n",
    "        \n",
    "        # Forward pass\n",
    "        outputs = model(input_ids, attention_mask=attention_masks)\n",
    "        logits = outputs.logits\n",
    "        \n",
    "        # Get predicted class\n",
    "        preds = torch.softmax(logits, dim=1)\n",
    "        # Apply the threshold\n",
    "        preds = (preds[:, 1] > threshold).long()\n",
    "        predictions.extend(preds.cpu().numpy())\n",
    "\n",
    "# Convert predictions to a DataFrame or other suitable format\n",
    "testdf['predictions'] = predictions\n",
    "\n",
    "\n"
   ]
  },
  {
   "cell_type": "code",
   "execution_count": 68,
   "id": "5d41a3df-5c46-47d6-9b08-544c9e3beb4a",
   "metadata": {},
   "outputs": [
    {
     "data": {
      "text/html": [
       "<div>\n",
       "<style scoped>\n",
       "    .dataframe tbody tr th:only-of-type {\n",
       "        vertical-align: middle;\n",
       "    }\n",
       "\n",
       "    .dataframe tbody tr th {\n",
       "        vertical-align: top;\n",
       "    }\n",
       "\n",
       "    .dataframe thead th {\n",
       "        text-align: right;\n",
       "    }\n",
       "</style>\n",
       "<table border=\"1\" class=\"dataframe\">\n",
       "  <thead>\n",
       "    <tr style=\"text-align: right;\">\n",
       "      <th></th>\n",
       "      <th>text</th>\n",
       "      <th>label</th>\n",
       "      <th>predictions</th>\n",
       "    </tr>\n",
       "  </thead>\n",
       "  <tbody>\n",
       "    <tr>\n",
       "      <th>0</th>\n",
       "      <td>Fears for T N pension after talks Unions repre...</td>\n",
       "      <td>0</td>\n",
       "      <td>0</td>\n",
       "    </tr>\n",
       "    <tr>\n",
       "      <th>1</th>\n",
       "      <td>The Race is On: Second Private Team Sets Launc...</td>\n",
       "      <td>1</td>\n",
       "      <td>1</td>\n",
       "    </tr>\n",
       "    <tr>\n",
       "      <th>2</th>\n",
       "      <td>Ky. Company Wins Grant to Study Peptides (AP) ...</td>\n",
       "      <td>1</td>\n",
       "      <td>1</td>\n",
       "    </tr>\n",
       "    <tr>\n",
       "      <th>3</th>\n",
       "      <td>Prediction Unit Helps Forecast Wildfires (AP) ...</td>\n",
       "      <td>1</td>\n",
       "      <td>1</td>\n",
       "    </tr>\n",
       "    <tr>\n",
       "      <th>4</th>\n",
       "      <td>Calif. Aims to Limit Farm-Related Smog (AP) AP...</td>\n",
       "      <td>1</td>\n",
       "      <td>0</td>\n",
       "    </tr>\n",
       "  </tbody>\n",
       "</table>\n",
       "</div>"
      ],
      "text/plain": [
       "                                                text  label  predictions\n",
       "0  Fears for T N pension after talks Unions repre...      0            0\n",
       "1  The Race is On: Second Private Team Sets Launc...      1            1\n",
       "2  Ky. Company Wins Grant to Study Peptides (AP) ...      1            1\n",
       "3  Prediction Unit Helps Forecast Wildfires (AP) ...      1            1\n",
       "4  Calif. Aims to Limit Farm-Related Smog (AP) AP...      1            0"
      ]
     },
     "execution_count": 68,
     "metadata": {},
     "output_type": "execute_result"
    }
   ],
   "source": [
    "testdf.head()"
   ]
  },
  {
   "cell_type": "code",
   "execution_count": 69,
   "id": "d24880d9-7417-4d15-b5b7-9db83fc87c88",
   "metadata": {},
   "outputs": [
    {
     "name": "stdout",
     "output_type": "stream",
     "text": [
      "Accuracy: 0.9268\n"
     ]
    }
   ],
   "source": [
    "true_labels = testdf['label'].tolist()\n",
    "accuracy = accuracy_score(true_labels, predictions)\n",
    "print(f'Accuracy: {accuracy:.4f}')"
   ]
  },
  {
   "cell_type": "code",
   "execution_count": 70,
   "id": "77eb3248-15d1-47d9-a117-650fc97d1911",
   "metadata": {},
   "outputs": [
    {
     "name": "stdout",
     "output_type": "stream",
     "text": [
      "              precision    recall  f1-score   support\n",
      "\n",
      "           0       0.93      0.98      0.95      5700\n",
      "           1       0.93      0.76      0.84      1900\n",
      "\n",
      "    accuracy                           0.93      7600\n",
      "   macro avg       0.93      0.87      0.90      7600\n",
      "weighted avg       0.93      0.93      0.92      7600\n",
      "\n"
     ]
    }
   ],
   "source": [
    "print(classification_report(true_labels, predictions))"
   ]
  },
  {
   "cell_type": "markdown",
   "id": "06e7f42a-40a4-4656-94be-2669567477a7",
   "metadata": {},
   "source": [
    "## 1: Report"
   ]
  },
  {
   "cell_type": "markdown",
   "id": "b014c83e-fadb-4d3a-8d05-31722cd8639e",
   "metadata": {},
   "source": [
    "The classification report provides a detailed evaluation of a classification model's performance. Here's a breakdown of each component:\n",
    "\n",
    "### **1. Precision, Recall, F1-Score, and Support**\n",
    "\n",
    "For each class:\n",
    "\n",
    "- **Precision**: The ratio of correctly predicted positive observations to the total predicted positives. It tells you how many of the predicted positive cases were actually positive.\n",
    "\n",
    "  \\[\n",
    "  \\text{Precision} = \\frac{TP}{TP + FP}\n",
    "  \\]\n",
    "\n",
    "  Where TP is True Positives and FP is False Positives.\n",
    "\n",
    "- **Recall**: The ratio of correctly predicted positive observations to all observations in the actual class. It tells you how many of the actual positive cases were correctly predicted.\n",
    "\n",
    "  \\[\n",
    "  \\text{Recall} = \\frac{TP}{TP + FN}\n",
    "  \\]\n",
    "\n",
    "  Where FN is False Negatives.\n",
    "\n",
    "- **F1-Score**: The harmonic mean of Precision and Recall. It provides a balance between Precision and Recall.\n",
    "\n",
    "  \\[\n",
    "  \\text{F1-Score} = 2 \\times \\frac{\\text{Precision} \\times \\text{Recall}}{\\text{Precision} + \\text{Recall}}\n",
    "  \\]\n",
    "\n",
    "- **Support**: The number of actual occurrences of the class in the dataset.\n",
    "\n",
    "### **Overall Metrics**\n",
    "\n",
    "- **Accuracy**: The ratio of correctly predicted observations to the total observations. It is a general measure of how well the model performs.\n",
    "\n",
    "  \\[\n",
    "  \\text{Accuracy} = \\frac{\\text{TP + TN}}{\\text{Total}}\n",
    "  \\]\n",
    "\n",
    "  Where TN is True Negatives.\n",
    "\n",
    "- **Macro Average**: The average performance across all classes, calculated independently for each class and then averaged. This metric treats all classes equally, regardless of their support.\n",
    "\n",
    "- **Weighted Average**: The average performance across all classes, weighted by the support of each class. It accounts for the imbalances in class distributions by giving more weight to classes with more instances.\n",
    "\n",
    "The classification report you provided gives a detailed performance evaluation of your model. Here’s a breakdown of the metrics:\n",
    "\n",
    "- **Metrics Breakdown**\n",
    "**Precision**:\n",
    "\n",
    "Class 0: 0.93\n",
    "Class 1: 0.93\n",
    "Overall: Precision is the ratio of correctly predicted positive observations to the total predicted positives. High precision indicates that the model is making fewer false positive predictions.\n",
    "\n",
    "**Recall**:\n",
    "\n",
    "Class 0: 0.98\n",
    "Class 1: 0.76\n",
    "Overall: Recall is the ratio of correctly predicted positive observations to all observations in the actual class. High recall means the model is capturing most of the positive instances.\n",
    "\n",
    "**F1-Score**:\n",
    "\n",
    "Class 0: 0.95\n",
    "Class 1: 0.84\n",
    "Overall: The F1-score is the weighted average of precision and recall. It is useful when you need a balance between precision and recall and is particularly useful when dealing with imbalanced datasets.\n",
    "\n",
    "**Support**:\n",
    "\n",
    "Class 0: 5700 (number of actual instances of class 0 in the test set)\n",
    "Class 1: 1900 (number of actual instances of class 1 in the test set)\n",
    "\n",
    "**Accuracy**:\n",
    "\n",
    "Overall: 0.93\n",
    "Accuracy is the ratio of correctly predicted observations to the total observations. In this case, 93% of the test set was correctly classified.\n",
    "\n",
    "**Macro Average**:\n",
    "\n",
    "Precision: 0.93\n",
    "Recall: 0.87\n",
    "F1-Score: 0.90\n",
    "Macro average calculates metrics for each label and finds their unweighted mean. This does not take label imbalance into account.\n",
    "\n",
    "**Weighted Average**:\n",
    "\n",
    "Precision: 0.93\n",
    "Recall: 0.93\n",
    "F1-Score: 0.92\n",
    "Weighted average calculates metrics for each label and finds their average, weighted by support (the number of true instances for each label). This accounts for label imbalance.\n",
    "\n",
    "**Insights**\n",
    "Class 0: Your model performs exceptionally well, with high precision, recall, and F1-score. This indicates that it can effectively classify instances of class 0.\n",
    "Class 1: The precision is high, but recall is somewhat lower. This means your model is relatively good at predicting class 1 when it predicts it, but it misses some instances of class 1.\n"
   ]
  },
  {
   "cell_type": "markdown",
   "id": "856586ae-3990-488d-a3eb-085aeb349f37",
   "metadata": {},
   "source": [
    "## 2: Challanges and Solutions"
   ]
  },
  {
   "cell_type": "markdown",
   "id": "935229c8-1614-422c-9585-2300e6f93efc",
   "metadata": {},
   "source": [
    "Here’s a summary of the challenges you faced during your classification project with BERT and the solutions to each:\n",
    "\n",
    "### **1. Handling Class Imbalance**\n",
    "\n",
    "**Challenge**: Your dataset had a significant class imbalance, with one class (3.0) being much more prevalent than the others.\n",
    "\n",
    "**Solution**: \n",
    "- **Combining Classes**: You combined classes 0.0, 1.0, and 2.0 into a single class to focus on correctly classifying the majority class (3.0). This helps simplify the problem and makes the model's task clearer.\n",
    "- **Accuracy before combination** : Accuracy: 0.6372\n",
    "- **Accuracy after combination** : Accuracy: 0.92\n",
    "\n",
    "### **2. Token Length Variation**\n",
    "\n",
    "**Challenge**: Your textual data had varying token lengths, which can cause issues with models expecting fixed input sizes.\n",
    "\n",
    "**Solution**:\n",
    "- **Padding and Truncation**: You decided to truncate longer texts and pad shorter texts to a fixed length of 55 tokens. This ensures that all input sequences have the same length, which is necessary for BERT.\n",
    "\n",
    "### **3. Model Training Issues**\n",
    "\n",
    "**Challenges**:\n",
    "- **Mismatch in Batch Size**: During training, you encountered a batch size mismatch error, indicating that the input and target batch sizes were inconsistent.\n",
    "- **Tensor Type Errors**: Errors related to tensor types (`Double` instead of `Float`) and label type mismatches.\n",
    "- **CUDA Errors**: Encountered CUDA errors related to device-side assertions and incorrect tensor types.\n",
    "\n",
    "**Solutions**:\n",
    "- **Batch Size Fix**: Ensure that the `input_ids`, `attention_masks`, and `labels` all have consistent dimensions when passed to the model.\n",
    "- **Tensor Type Correction**: Convert tensors to the correct types using `.float()` for logits and `.long()` for labels.\n",
    "- **CUDA Errors**: Use `CUDA_LAUNCH_BLOCKING=1` for debugging, and ensure tensors are on the correct device.\n",
    "\n",
    "### **4. Evaluation and Metrics**\n",
    "\n",
    "**Challenge**: Understanding and interpreting model performance metrics to evaluate its effectiveness.\n",
    "\n",
    "**Solution**:\n",
    "- **Classification Report**: Use metrics like precision, recall, and F1-score to evaluate model performance. These metrics provide insights into how well the model performs across different classes, especially when dealing with imbalanced datasets.\n",
    "- **Precision Control**: In first iteration, it's accuracy was 94% but as our major interest is class 1 the precision for class 1 was only 74% which needs to be handel carefully. Hence, we introduce the concept of threshold, the best threshold we figure out it 0.9 for which we compromise with accuracy by 2% but precision for class 1 improves significantly to 92%. \n",
    "\n",
    "### **5. Model Inference and Testing**\n",
    "\n",
    "**Challenge**: Testing the model on a pandas DataFrame containing the test data.\n",
    "\n",
    "**Solution**:\n",
    "- **Data Preparation**: Tokenize and pad the test data similarly to the training data. Create a `DataLoader` for efficient batch processing.\n",
    "- **Inference**: Perform inference using the trained model and convert predictions to a suitable format for evaluation.\n",
    "\n",
    "### **Summary of Solutions**\n",
    "\n",
    "1. **Class Imbalance**: Combine minor classes to simplify the problem and focus on major class.\n",
    "2. **Token Length**: Pad and truncate sequences to a fixed length.\n",
    "3. **Training Issues**: Ensure consistent tensor dimensions and types; handle CUDA errors by debugging.\n",
    "4. **Evaluation**: Use classification metrics to understand model performance.\n",
    "5. **Testing**: Preprocess test data similarly to training data, perform inference, and evaluate the results.\n",
    "\n"
   ]
  },
  {
   "cell_type": "code",
   "execution_count": null,
   "id": "1040665b-480d-43c1-b44d-eb2787facb1c",
   "metadata": {},
   "outputs": [],
   "source": []
  },
  {
   "cell_type": "code",
   "execution_count": null,
   "id": "7a14b909-1022-4a8b-92cc-116e1223b3f3",
   "metadata": {},
   "outputs": [],
   "source": []
  }
 ],
 "metadata": {
  "kernelspec": {
   "display_name": "Python 3 (ipykernel)",
   "language": "python",
   "name": "python3"
  },
  "language_info": {
   "codemirror_mode": {
    "name": "ipython",
    "version": 3
   },
   "file_extension": ".py",
   "mimetype": "text/x-python",
   "name": "python",
   "nbconvert_exporter": "python",
   "pygments_lexer": "ipython3",
   "version": "3.10.8"
  }
 },
 "nbformat": 4,
 "nbformat_minor": 5
}
